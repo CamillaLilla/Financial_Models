{
 "cells": [
  {
   "cell_type": "code",
   "execution_count": 2,
   "id": "0f223769",
   "metadata": {},
   "outputs": [],
   "source": [
    "import pandas as pd\n",
    "import yfinance as yf\n",
    "import statsmodels.api as sm\n",
    "import getFamaFrenchFactors as gff"
   ]
  },
  {
   "cell_type": "code",
   "execution_count": 3,
   "id": "670947c8",
   "metadata": {},
   "outputs": [],
   "source": [
    "ticker = 'msft'\n",
    "start = '2016-8-31'\n",
    "end = '2021-8-31'"
   ]
  },
  {
   "cell_type": "code",
   "execution_count": 4,
   "id": "3add4453",
   "metadata": {},
   "outputs": [
    {
     "name": "stdout",
     "output_type": "stream",
     "text": [
      "[*********************100%***********************]  1 of 1 completed\n"
     ]
    }
   ],
   "source": [
    "stock_data = yf.download(ticker, start, end, adjusted=True)"
   ]
  },
  {
   "cell_type": "code",
   "execution_count": 5,
   "id": "4e316327",
   "metadata": {},
   "outputs": [],
   "source": [
    "ff3_monthly = gff.famaFrench3Factor(frequency='m')\n",
    "ff3_monthly.rename(columns={\"date_ff_factors\": 'Date'}, inplace=True)\n",
    "ff3_monthly.set_index('Date', inplace=True)"
   ]
  },
  {
   "cell_type": "code",
   "execution_count": 6,
   "id": "51fe55ff",
   "metadata": {},
   "outputs": [],
   "source": [
    "stock_returns = stock_data['Adj Close'].resample('M').last().pct_change().dropna()\n",
    "stock_returns.name = \"Month_Rtn\"\n",
    "ff_data = ff3_monthly.merge(stock_returns,on='Date')\n"
   ]
  },
  {
   "cell_type": "code",
   "execution_count": 7,
   "id": "9c2ce5e8",
   "metadata": {},
   "outputs": [
    {
     "name": "stdout",
     "output_type": "stream",
     "text": [
      "                            OLS Regression Results                            \n",
      "==============================================================================\n",
      "Dep. Variable:                      y   R-squared:                       0.608\n",
      "Model:                            OLS   Adj. R-squared:                  0.587\n",
      "Method:                 Least Squares   F-statistic:                     28.99\n",
      "Date:                Fri, 09 Sep 2022   Prob (F-statistic):           1.91e-11\n",
      "Time:                        12:49:22   Log-Likelihood:                 126.51\n",
      "No. Observations:                  60   AIC:                            -245.0\n",
      "Df Residuals:                      56   BIC:                            -236.6\n",
      "Df Model:                           3                                         \n",
      "Covariance Type:            nonrobust                                         \n",
      "==============================================================================\n",
      "                 coef    std err          t      P>|t|      [0.025      0.975]\n",
      "------------------------------------------------------------------------------\n",
      "const          0.0155      0.004      3.670      0.001       0.007       0.024\n",
      "Mkt-RF         0.8633      0.094      9.196      0.000       0.675       1.051\n",
      "SMB           -0.3164      0.152     -2.086      0.042      -0.620      -0.013\n",
      "HML           -0.3283      0.109     -3.023      0.004      -0.546      -0.111\n",
      "==============================================================================\n",
      "Omnibus:                        2.384   Durbin-Watson:                   2.596\n",
      "Prob(Omnibus):                  0.304   Jarque-Bera (JB):                1.666\n",
      "Skew:                           0.160   Prob(JB):                        0.435\n",
      "Kurtosis:                       3.751   Cond. No.                         40.0\n",
      "==============================================================================\n",
      "\n",
      "Notes:\n",
      "[1] Standard Errors assume that the covariance matrix of the errors is correctly specified.\n"
     ]
    },
    {
     "name": "stderr",
     "output_type": "stream",
     "text": [
      "/opt/anaconda3/lib/python3.9/site-packages/statsmodels/tsa/tsatools.py:142: FutureWarning: In a future version of pandas all arguments of concat except for the argument 'objs' will be keyword-only\n",
      "  x = pd.concat(x[::order], 1)\n"
     ]
    }
   ],
   "source": [
    "X = ff_data[['Mkt-RF', 'SMB', 'HML']]\n",
    "y = ff_data['Month_Rtn'] - ff_data['RF']\n",
    "X = sm.add_constant(X)\n",
    "ff_model = sm.OLS(y, X).fit()\n",
    "print(ff_model.summary())\n",
    "intercept, b1, b2, b3 = ff_model.params"
   ]
  },
  {
   "cell_type": "code",
   "execution_count": 8,
   "id": "7134b554",
   "metadata": {},
   "outputs": [],
   "source": [
    "rf = ff_data['RF'].mean()\n",
    "market_premium = ff3_monthly['Mkt-RF'].mean()\n",
    "size_premium = ff3_monthly['SMB'].mean()\n",
    "value_premium = ff3_monthly['HML'].mean()"
   ]
  },
  {
   "cell_type": "code",
   "execution_count": 9,
   "id": "c5b702b5",
   "metadata": {},
   "outputs": [
    {
     "name": "stdout",
     "output_type": "stream",
     "text": [
      "Expected yearly return: 0.05943281299079463\n"
     ]
    }
   ],
   "source": [
    "expected_monthly_return = rf + b1 * market_premium + b2 * size_premium + b3 * value_premium \n",
    "expected_yearly_return = expected_monthly_return * 12\n",
    "print(\"Expected yearly return: \" + str(expected_yearly_return))"
   ]
  },
  {
   "cell_type": "code",
   "execution_count": null,
   "id": "c17ec6a5",
   "metadata": {},
   "outputs": [],
   "source": []
  }
 ],
 "metadata": {
  "kernelspec": {
   "display_name": "Python 3 (ipykernel)",
   "language": "python",
   "name": "python3"
  },
  "language_info": {
   "codemirror_mode": {
    "name": "ipython",
    "version": 3
   },
   "file_extension": ".py",
   "mimetype": "text/x-python",
   "name": "python",
   "nbconvert_exporter": "python",
   "pygments_lexer": "ipython3",
   "version": "3.9.7"
  }
 },
 "nbformat": 4,
 "nbformat_minor": 5
}
